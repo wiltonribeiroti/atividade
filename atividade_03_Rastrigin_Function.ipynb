{
  "nbformat": 4,
  "nbformat_minor": 0,
  "metadata": {
    "colab": {
      "name": "atividade 03",
      "provenance": [],
      "collapsed_sections": []
    },
    "kernelspec": {
      "name": "python3",
      "display_name": "Python 3"
    },
    "language_info": {
      "name": "python"
    }
  },
  "cells": [
    {
      "cell_type": "code",
      "execution_count": 61,
      "metadata": {
        "id": "VKonTk0bs4Yy"
      },
      "outputs": [],
      "source": [
        "#Importação das bibliotecas\n",
        "import pandas as pd\n",
        "import numpy as np\n",
        "from numpy import random as np_random\n",
        "import matplotlib.pyplot as plt\n",
        "import numpy.testing as testing\n",
        "import math"
      ]
    },
    {
      "cell_type": "code",
      "source": [
        "#Parametros definidos\n",
        "faixas = [[5,12],[-5,12]]\n",
        "#taxa de elitismo\n",
        "elitismo = 0.5\n",
        "#definindo a quantidade da população\n",
        "qtd_populacao = 10\n",
        "#definindo o tempo de geração \n",
        "tempo_geracao = 200"
      ],
      "metadata": {
        "id": "aIKjbIdOs-tA"
      },
      "execution_count": 62,
      "outputs": []
    },
    {
      "cell_type": "code",
      "source": [
        "#Para cada um dos indivíduos, aplicar a função fitness da Rastrigin repetida aqui:\n",
        "def fitnessFunc(self, indDecod ):\n",
        "\t\"\"\"F5 Rastrigin's function\n",
        "\tmultimodal, symmetric, separable\"\"\"\n",
        "\tfitness = 10*len(indDecod )\n",
        "\tfor i in range(len(indDecod )):\n",
        "\t\tfitness += indDecod[i]**2 - (10*math.cos(2*math.pi*indDecod[i]))\n",
        "\treturn fitness"
      ],
      "metadata": {
        "id": "WGxh-T1CDhor"
      },
      "execution_count": 63,
      "outputs": []
    },
    {
      "cell_type": "code",
      "source": [
        "#Criando a população\n",
        "def GeraPopulacao (numInd):\n",
        " populacao = []\n",
        " for i in range(numInd):\n",
        "        Individuo = np.random.uniform(0.0,1.0,2)\n",
        "        populacao.append(Individuo)\n",
        " return populacao"
      ],
      "metadata": {
        "id": "8W4TZa4LtBOx"
      },
      "execution_count": 64,
      "outputs": []
    },
    {
      "cell_type": "code",
      "source": [
        "#calculando o fitness\n",
        "def Calculo_Fitness(populacao, f):\n",
        " populacao_fitness = []\n",
        " for i in populacao:\n",
        "   i= IdentificaIndividuo(i,50,130)\n",
        "   fitness = fitnessFunc(i)\n",
        "   populacao_fitness.append(fitness)\n",
        " return populacao_fitness"
      ],
      "metadata": {
        "id": "oAkPdUmotDr3"
      },
      "execution_count": 65,
      "outputs": []
    },
    {
      "cell_type": "code",
      "source": [
        "#função para decodificar individuo (vai armazenar os individuos e as faixas, que no caso do exercicio são 02 valores)\n",
        "def IdentificaIndividuo(Individuo, minimo, maximo):\n",
        "  valor=[]\n",
        "  for p in Individuo:\n",
        "# Realiza o calculo \n",
        "    v=(p*(maximo-minimo))+p\n",
        "    #v=(valor-minimo/maximo-minimo)\n",
        "# Arredonda para 03 casas decimais para uma melhor comparação\n",
        "    valor.append(round(v,3))\n",
        "  return valor"
      ],
      "metadata": {
        "id": "Sdtf1hUYtHDQ"
      },
      "execution_count": 66,
      "outputs": []
    },
    {
      "cell_type": "code",
      "source": [
        "#RANDOW WALK\n",
        "\n",
        "def walk(numInd, elitismo,Fitness_Anterior):\n",
        "#inicio da geração em zero (chute)\n",
        "  if(len(Fitness_Anterior)==0):\n",
        "    populacao = GeraPopulacao(numInd)\n",
        "    populacao_fitness = Calculo_Fitness(populacao, faixas)\n",
        "  else:\n",
        "\n",
        "    metade = int(numInd  * elitismo)\n",
        "\n",
        "    Fitness_Anterior = Fitness_Anterior[:-metade]\n",
        "\n",
        "    populacao = GeraPopulacao(metade)\n",
        "    NovoFitness = Calculo_Fitness(populacao, faixas)\n",
        "\n",
        "\n",
        "    populacao_fitness = np.append(Fitness_Anterior, NovoFitness)\n",
        "\n",
        "  return np.sort(populacao_fitness)"
      ],
      "metadata": {
        "id": "KZgBHWQstN64"
      },
      "execution_count": 67,
      "outputs": []
    },
    {
      "cell_type": "code",
      "source": [
        "#CASO DE TESTE 03\n",
        "def Exercicio3 (numIndividuos,genLimit):\n",
        "#armazenar as gerações\n",
        "  all=[]\n",
        "  for i in range(numIndividuos):\n",
        "#armazena apenas o melhor individuo (ele exibe o melhor individuo da população, ou seja, o historico do melhor.\n",
        "    besthistory=[]\n",
        "#armazena o fitness da geração atual \n",
        "    fit=[] \n",
        "    geracao=0\n",
        "#executa o randowalk ate o (genList) vezes\n",
        "    while (geracao <genLimit):\n",
        "      fit = walk(numIndividuos, elitismo, fit)\n",
        "      besthistory.append(fit[0])\n",
        "      geracao +=1\n",
        "    all.append(besthistory)\n",
        "#armazena todos os melhores individuos da primeira geração (0 a 200)\n",
        "#transforma historico no array do numpy\n",
        "  all = np.asarray(all)\n",
        "#Tranformar em linha \n",
        "  all = all.transpose()\n",
        "#cria array de resultados para o plot (Media, Desvio Padrão)\n",
        "  ValorArmazenado = []\n",
        "  for i in range(genLimit):\n",
        "#função para encontrar a média\n",
        "    mean = np.mean(all[i])\n",
        "#função para encontrar o desvio padrão\n",
        "    std = np.std(all[i])\n",
        "#adicionar tudo em uma base\n",
        "    ValorArmazenado.append([i,mean,mean-std, mean+std])\n",
        "  ValorArmazenado = np.asarray(ValorArmazenado)\n",
        "  x = ValorArmazenado [:,0]\n",
        "  y = ValorArmazenado [:,1]\n",
        "  y1 = ValorArmazenado[:,2]\n",
        "  y2 = ValorArmazenado[:,3]\n",
        " \n",
        "  fig, ax = plt.subplots()\n",
        "  fig.figsize=(1000,1000)\n",
        "  fig.dpi=100\n",
        "  ax.plot(x,y,'-')\n",
        "  ax.fill_between(x,y2,y1,alpha=0.5)\n",
        "  plt.gca().invert_yaxis()\n",
        "  plt.show()"
      ],
      "metadata": {
        "id": "GE-Lspj7tS6k"
      },
      "execution_count": 68,
      "outputs": []
    },
    {
      "cell_type": "code",
      "source": [
        ""
      ],
      "metadata": {
        "id": "dfNMaNC7oR-P"
      },
      "execution_count": 38,
      "outputs": []
    },
    {
      "cell_type": "code",
      "source": [
        "Exercicio3(qtd_populacao,tempo_geracao)"
      ],
      "metadata": {
        "colab": {
          "base_uri": "https://localhost:8080/",
          "height": 312
        },
        "id": "HvowT85stcQu",
        "outputId": "9f71a5be-ff25-4c6f-ade6-fff6a2d36961"
      },
      "execution_count": 69,
      "outputs": [
        {
          "output_type": "error",
          "ename": "TypeError",
          "evalue": "ignored",
          "traceback": [
            "\u001b[0;31m---------------------------------------------------------------------------\u001b[0m",
            "\u001b[0;31mTypeError\u001b[0m                                 Traceback (most recent call last)",
            "\u001b[0;32m<ipython-input-69-063db2b16c47>\u001b[0m in \u001b[0;36m<module>\u001b[0;34m()\u001b[0m\n\u001b[0;32m----> 1\u001b[0;31m \u001b[0mExercicio3\u001b[0m\u001b[0;34m(\u001b[0m\u001b[0mqtd_populacao\u001b[0m\u001b[0;34m,\u001b[0m\u001b[0mtempo_geracao\u001b[0m\u001b[0;34m)\u001b[0m\u001b[0;34m\u001b[0m\u001b[0;34m\u001b[0m\u001b[0m\n\u001b[0m",
            "\u001b[0;32m<ipython-input-68-8cf48f9c9f07>\u001b[0m in \u001b[0;36mExercicio3\u001b[0;34m(numIndividuos, genLimit)\u001b[0m\n\u001b[1;32m     11\u001b[0m \u001b[0;31m#executa o randowalk ate o (genList) vezes\u001b[0m\u001b[0;34m\u001b[0m\u001b[0;34m\u001b[0m\u001b[0;34m\u001b[0m\u001b[0m\n\u001b[1;32m     12\u001b[0m     \u001b[0;32mwhile\u001b[0m \u001b[0;34m(\u001b[0m\u001b[0mgeracao\u001b[0m \u001b[0;34m<\u001b[0m\u001b[0mgenLimit\u001b[0m\u001b[0;34m)\u001b[0m\u001b[0;34m:\u001b[0m\u001b[0;34m\u001b[0m\u001b[0;34m\u001b[0m\u001b[0m\n\u001b[0;32m---> 13\u001b[0;31m       \u001b[0mfit\u001b[0m \u001b[0;34m=\u001b[0m \u001b[0mwalk\u001b[0m\u001b[0;34m(\u001b[0m\u001b[0mnumIndividuos\u001b[0m\u001b[0;34m,\u001b[0m \u001b[0melitismo\u001b[0m\u001b[0;34m,\u001b[0m \u001b[0mfit\u001b[0m\u001b[0;34m)\u001b[0m\u001b[0;34m\u001b[0m\u001b[0;34m\u001b[0m\u001b[0m\n\u001b[0m\u001b[1;32m     14\u001b[0m       \u001b[0mbesthistory\u001b[0m\u001b[0;34m.\u001b[0m\u001b[0mappend\u001b[0m\u001b[0;34m(\u001b[0m\u001b[0mfit\u001b[0m\u001b[0;34m[\u001b[0m\u001b[0;36m0\u001b[0m\u001b[0;34m]\u001b[0m\u001b[0;34m)\u001b[0m\u001b[0;34m\u001b[0m\u001b[0;34m\u001b[0m\u001b[0m\n\u001b[1;32m     15\u001b[0m       \u001b[0mgeracao\u001b[0m \u001b[0;34m+=\u001b[0m\u001b[0;36m1\u001b[0m\u001b[0;34m\u001b[0m\u001b[0;34m\u001b[0m\u001b[0m\n",
            "\u001b[0;32m<ipython-input-67-db5f296a78db>\u001b[0m in \u001b[0;36mwalk\u001b[0;34m(numInd, elitismo, Fitness_Anterior)\u001b[0m\n\u001b[1;32m      5\u001b[0m   \u001b[0;32mif\u001b[0m\u001b[0;34m(\u001b[0m\u001b[0mlen\u001b[0m\u001b[0;34m(\u001b[0m\u001b[0mFitness_Anterior\u001b[0m\u001b[0;34m)\u001b[0m\u001b[0;34m==\u001b[0m\u001b[0;36m0\u001b[0m\u001b[0;34m)\u001b[0m\u001b[0;34m:\u001b[0m\u001b[0;34m\u001b[0m\u001b[0;34m\u001b[0m\u001b[0m\n\u001b[1;32m      6\u001b[0m     \u001b[0mpopulacao\u001b[0m \u001b[0;34m=\u001b[0m \u001b[0mGeraPopulacao\u001b[0m\u001b[0;34m(\u001b[0m\u001b[0mnumInd\u001b[0m\u001b[0;34m)\u001b[0m\u001b[0;34m\u001b[0m\u001b[0;34m\u001b[0m\u001b[0m\n\u001b[0;32m----> 7\u001b[0;31m     \u001b[0mpopulacao_fitness\u001b[0m \u001b[0;34m=\u001b[0m \u001b[0mCalculo_Fitness\u001b[0m\u001b[0;34m(\u001b[0m\u001b[0mpopulacao\u001b[0m\u001b[0;34m,\u001b[0m \u001b[0mfaixas\u001b[0m\u001b[0;34m)\u001b[0m\u001b[0;34m\u001b[0m\u001b[0;34m\u001b[0m\u001b[0m\n\u001b[0m\u001b[1;32m      8\u001b[0m   \u001b[0;32melse\u001b[0m\u001b[0;34m:\u001b[0m\u001b[0;34m\u001b[0m\u001b[0;34m\u001b[0m\u001b[0m\n\u001b[1;32m      9\u001b[0m \u001b[0;34m\u001b[0m\u001b[0m\n",
            "\u001b[0;32m<ipython-input-65-08444b506691>\u001b[0m in \u001b[0;36mCalculo_Fitness\u001b[0;34m(populacao, f)\u001b[0m\n\u001b[1;32m      4\u001b[0m  \u001b[0;32mfor\u001b[0m \u001b[0mi\u001b[0m \u001b[0;32min\u001b[0m \u001b[0mpopulacao\u001b[0m\u001b[0;34m:\u001b[0m\u001b[0;34m\u001b[0m\u001b[0;34m\u001b[0m\u001b[0m\n\u001b[1;32m      5\u001b[0m    \u001b[0mi\u001b[0m\u001b[0;34m=\u001b[0m \u001b[0mIdentificaIndividuo\u001b[0m\u001b[0;34m(\u001b[0m\u001b[0mi\u001b[0m\u001b[0;34m,\u001b[0m\u001b[0;36m50\u001b[0m\u001b[0;34m,\u001b[0m\u001b[0;36m130\u001b[0m\u001b[0;34m)\u001b[0m\u001b[0;34m\u001b[0m\u001b[0;34m\u001b[0m\u001b[0m\n\u001b[0;32m----> 6\u001b[0;31m    \u001b[0mfitness\u001b[0m \u001b[0;34m=\u001b[0m \u001b[0mfitnessFunc\u001b[0m\u001b[0;34m(\u001b[0m\u001b[0mi\u001b[0m\u001b[0;34m)\u001b[0m\u001b[0;34m\u001b[0m\u001b[0;34m\u001b[0m\u001b[0m\n\u001b[0m\u001b[1;32m      7\u001b[0m    \u001b[0mpopulacao_fitness\u001b[0m\u001b[0;34m.\u001b[0m\u001b[0mappend\u001b[0m\u001b[0;34m(\u001b[0m\u001b[0mfitness\u001b[0m\u001b[0;34m)\u001b[0m\u001b[0;34m\u001b[0m\u001b[0;34m\u001b[0m\u001b[0m\n\u001b[1;32m      8\u001b[0m  \u001b[0;32mreturn\u001b[0m \u001b[0mpopulacao_fitness\u001b[0m\u001b[0;34m\u001b[0m\u001b[0;34m\u001b[0m\u001b[0m\n",
            "\u001b[0;31mTypeError\u001b[0m: fitnessFunc() missing 1 required positional argument: 'indDecod'"
          ]
        }
      ]
    }
  ]
}